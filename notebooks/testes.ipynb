{
 "cells": [
  {
   "cell_type": "code",
   "execution_count": 1,
   "metadata": {},
   "outputs": [],
   "source": [
    "books = [\n",
    "    {\"id\": 1, \"title\": \"Clean Code\", \"author\": \"Robert C. Martin\", \"read\": False},\n",
    "    {\n",
    "        \"id\": 2,\n",
    "        \"title\": \"The Pragmatic Programmer\",\n",
    "        \"author\": \"Andrew Hunt, David Thomas\",\n",
    "        \"read\": False,\n",
    "    },\n",
    "    {\n",
    "        \"id\": 3,\n",
    "        \"title\": \"Design Patterns\",\n",
    "        \"author\": \"Erich Gamma, Richard Helm, Ralph Johnson, John Vlissides\",\n",
    "        \"read\": False,\n",
    "    },\n",
    "]\n"
   ]
  },
  {
   "cell_type": "code",
   "execution_count": null,
   "metadata": {},
   "outputs": [],
   "source": []
  },
  {
   "cell_type": "code",
   "execution_count": 4,
   "metadata": {},
   "outputs": [
    {
     "name": "stdout",
     "output_type": "stream",
     "text": [
      "{'id': 1, 'title': 'Clean Code', 'author': 'Robert C. Martin', 'read': False}\n"
     ]
    }
   ],
   "source": [
    "print(\n",
    "  books[0]\n",
    ")"
   ]
  }
 ],
 "metadata": {
  "kernelspec": {
   "display_name": "Python 3",
   "language": "python",
   "name": "python3"
  },
  "language_info": {
   "codemirror_mode": {
    "name": "ipython",
    "version": 3
   },
   "file_extension": ".py",
   "mimetype": "text/x-python",
   "name": "python",
   "nbconvert_exporter": "python",
   "pygments_lexer": "ipython3",
   "version": "3.13.1"
  }
 },
 "nbformat": 4,
 "nbformat_minor": 2
}
